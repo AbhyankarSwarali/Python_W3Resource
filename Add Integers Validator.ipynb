{
 "cells": [
  {
   "cell_type": "code",
   "execution_count": 19,
   "id": "8caf8103-6ff6-4e98-8a12-5f580a9b1c5d",
   "metadata": {},
   "outputs": [
    {
     "name": "stdin",
     "output_type": "stream",
     "text": [
      "Enter value of x: True\n",
      "Enter value of y: 4\n"
     ]
    },
    {
     "name": "stdout",
     "output_type": "stream",
     "text": [
      "Value you entered is not an integer.\n",
      "Cannot add\n"
     ]
    }
   ],
   "source": [
    "x = eval(input(\"Enter value of x:\"))\n",
    "y = eval(input(\"Enter value of y:\"))\n",
    "if (isinstance(x, int) and not isinstance(x, bool)) and (isinstance(y, int) and not isinstance(y, bool)): \n",
    "    print(x+y)\n",
    "else: \n",
    "    print(\"Value you entered is not an integer.\")\n",
    "    print('Cannot add')"
   ]
  }
 ],
 "metadata": {
  "kernelspec": {
   "display_name": "Python [conda env:base] *",
   "language": "python",
   "name": "conda-base-py"
  },
  "language_info": {
   "codemirror_mode": {
    "name": "ipython",
    "version": 3
   },
   "file_extension": ".py",
   "mimetype": "text/x-python",
   "name": "python",
   "nbconvert_exporter": "python",
   "pygments_lexer": "ipython3",
   "version": "3.12.7"
  }
 },
 "nbformat": 4,
 "nbformat_minor": 5
}
