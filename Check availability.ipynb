{
 "cells": [
  {
   "cell_type": "code",
   "execution_count": 8,
   "id": "e5618740-2d7e-4864-8e60-285e977f01bd",
   "metadata": {},
   "outputs": [
    {
     "name": "stdin",
     "output_type": "stream",
     "text": [
      "Enter a number: 4\n"
     ]
    },
    {
     "name": "stdout",
     "output_type": "stream",
     "text": [
      "4 is not in the list\n"
     ]
    }
   ],
   "source": [
    "def available(): \n",
    "    L=[1,5,8,3]\n",
    "    n = int(input(\"Enter a number:\")) \n",
    "    if n in L:\n",
    "        print(f'{n} is in the list')\n",
    "    else: \n",
    "        print(f'{n} is not in the list')\n",
    "available()"
   ]
  }
 ],
 "metadata": {
  "kernelspec": {
   "display_name": "Python [conda env:base] *",
   "language": "python",
   "name": "conda-base-py"
  },
  "language_info": {
   "codemirror_mode": {
    "name": "ipython",
    "version": 3
   },
   "file_extension": ".py",
   "mimetype": "text/x-python",
   "name": "python",
   "nbconvert_exporter": "python",
   "pygments_lexer": "ipython3",
   "version": "3.12.7"
  }
 },
 "nbformat": 4,
 "nbformat_minor": 5
}
