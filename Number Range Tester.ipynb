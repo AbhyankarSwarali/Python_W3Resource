{
 "cells": [
  {
   "cell_type": "code",
   "execution_count": 9,
   "id": "faa9327d-1b36-43b5-a812-da74a2a71b94",
   "metadata": {},
   "outputs": [
    {
     "name": "stdin",
     "output_type": "stream",
     "text": [
      "Enter a number: 99.99\n"
     ]
    },
    {
     "data": {
      "text/plain": [
       "'Within 100'"
      ]
     },
     "execution_count": 9,
     "metadata": {},
     "output_type": "execute_result"
    }
   ],
   "source": [
    "def Range(x): \n",
    "    if x < 100:\n",
    "        return 'Within 100'\n",
    "    elif 100 < x < 1000: \n",
    "        return 'Within 1000'\n",
    "    elif 1000 < x < 2000: \n",
    "        return 'Within 2000'\n",
    "    else: \n",
    "        return 'Beyond 2000'\n",
    "n = float(input(\"Enter a number:\"))\n",
    "Range(n)"
   ]
  }
 ],
 "metadata": {
  "kernelspec": {
   "display_name": "Python [conda env:base] *",
   "language": "python",
   "name": "conda-base-py"
  },
  "language_info": {
   "codemirror_mode": {
    "name": "ipython",
    "version": 3
   },
   "file_extension": ".py",
   "mimetype": "text/x-python",
   "name": "python",
   "nbconvert_exporter": "python",
   "pygments_lexer": "ipython3",
   "version": "3.12.7"
  }
 },
 "nbformat": 4,
 "nbformat_minor": 5
}
