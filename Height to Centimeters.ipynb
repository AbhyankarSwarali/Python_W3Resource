{
 "cells": [
  {
   "cell_type": "code",
   "execution_count": 14,
   "id": "a0f39481-c058-4437-9bd6-2af5cab746aa",
   "metadata": {},
   "outputs": [
    {
     "name": "stdin",
     "output_type": "stream",
     "text": [
      "Enter height in ft.in: 5.3\n"
     ]
    },
    {
     "name": "stdout",
     "output_type": "stream",
     "text": [
      "Height in cm: 160.02\n"
     ]
    }
   ],
   "source": [
    "def height_to_cm(): \n",
    "    h = input('''Enter height in ft.in:''' )\n",
    "    H = h.split('.')\n",
    "\n",
    "    inch = float(H[0]) * 12 + float(H[1])\n",
    "    cm = float(inch) * 2.54\n",
    "    \n",
    "    print(\"Height in cm:\", cm)\n",
    "height_to_cm()"
   ]
  },
  {
   "cell_type": "code",
   "execution_count": 13,
   "id": "942f88f2-3584-4480-9c0e-720dbd655106",
   "metadata": {},
   "outputs": [],
   "source": [
    "# 1 foot = 12 inches\n",
    "# 1 foot = 30.48 cm\n",
    "# 1 inch = 2.54 cm "
   ]
  }
 ],
 "metadata": {
  "kernelspec": {
   "display_name": "Python [conda env:base] *",
   "language": "python",
   "name": "conda-base-py"
  },
  "language_info": {
   "codemirror_mode": {
    "name": "ipython",
    "version": 3
   },
   "file_extension": ".py",
   "mimetype": "text/x-python",
   "name": "python",
   "nbconvert_exporter": "python",
   "pygments_lexer": "ipython3",
   "version": "3.12.7"
  }
 },
 "nbformat": 4,
 "nbformat_minor": 5
}
