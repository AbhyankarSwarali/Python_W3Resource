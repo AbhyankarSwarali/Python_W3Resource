{
 "cells": [
  {
   "cell_type": "code",
   "execution_count": 3,
   "id": "bb6b59e5-abd1-41d6-9f03-e6d47c9b853d",
   "metadata": {},
   "outputs": [
    {
     "name": "stdin",
     "output_type": "stream",
     "text": [
      "Enter a: 5\n",
      "Enter b: 5\n",
      "Enter c: 5\n"
     ]
    },
    {
     "data": {
      "text/plain": [
       "45"
      ]
     },
     "execution_count": 3,
     "metadata": {},
     "output_type": "execute_result"
    }
   ],
   "source": [
    "def triple_sum(a,b,c): \n",
    "    if a == b == c:\n",
    "        return 3*(a+b+c)\n",
    "    else: \n",
    "        return a+b+c \n",
    "a = int(input(\"Enter a:\"))\n",
    "b = int(input(\"Enter b:\"))\n",
    "c = int(input(\"Enter c:\"))\n",
    "triple_sum(a,b,c)"
   ]
  }
 ],
 "metadata": {
  "kernelspec": {
   "display_name": "Python [conda env:base] *",
   "language": "python",
   "name": "conda-base-py"
  },
  "language_info": {
   "codemirror_mode": {
    "name": "ipython",
    "version": 3
   },
   "file_extension": ".py",
   "mimetype": "text/x-python",
   "name": "python",
   "nbconvert_exporter": "python",
   "pygments_lexer": "ipython3",
   "version": "3.12.7"
  }
 },
 "nbformat": 4,
 "nbformat_minor": 5
}
