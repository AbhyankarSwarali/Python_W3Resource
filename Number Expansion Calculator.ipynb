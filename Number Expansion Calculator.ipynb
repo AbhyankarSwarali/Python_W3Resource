{
 "cells": [
  {
   "cell_type": "code",
   "execution_count": 3,
   "id": "6dd157d3-a578-4a4a-84b2-a75443e79c67",
   "metadata": {},
   "outputs": [
    {
     "name": "stdin",
     "output_type": "stream",
     "text": [
      "Enter a number: 5\n"
     ]
    },
    {
     "name": "stdout",
     "output_type": "stream",
     "text": [
      "615\n"
     ]
    }
   ],
   "source": [
    "n = int(input(\"Enter a number:\")) \n",
    "a = int('%s' %n)\n",
    "b = int(\"%s%s\" % (n,n))\n",
    "c = int(\"%s%s%s\" % (n,n,n))\n",
    "print(a+b+c)"
   ]
  }
 ],
 "metadata": {
  "kernelspec": {
   "display_name": "Python [conda env:base] *",
   "language": "python",
   "name": "conda-base-py"
  },
  "language_info": {
   "codemirror_mode": {
    "name": "ipython",
    "version": 3
   },
   "file_extension": ".py",
   "mimetype": "text/x-python",
   "name": "python",
   "nbconvert_exporter": "python",
   "pygments_lexer": "ipython3",
   "version": "3.12.7"
  }
 },
 "nbformat": 4,
 "nbformat_minor": 5
}
