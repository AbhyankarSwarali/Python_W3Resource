{
 "cells": [
  {
   "cell_type": "code",
   "execution_count": 1,
   "id": "297f2c3c-2aab-40dc-97b9-21d629cf882d",
   "metadata": {},
   "outputs": [
    {
     "name": "stdin",
     "output_type": "stream",
     "text": [
      "Enter days: 3\n",
      "Enter hours: 5\n",
      "Enter minutes: 36\n",
      "Enter seconds: 47\n"
     ]
    },
    {
     "name": "stdout",
     "output_type": "stream",
     "text": [
      "Total seconds: 279407\n"
     ]
    }
   ],
   "source": [
    "days = int(input(\"Enter days:\")) * 24*3600\n",
    "hours = int(input(\"Enter hours:\")) * 3600\n",
    "minutes = int(input(\"Enter minutes:\")) * 60\n",
    "seconds = int(input(\"Enter seconds:\"))\n",
    "time = days + hours + minutes + seconds\n",
    "print(\"Total seconds:\", time)"
   ]
  }
 ],
 "metadata": {
  "kernelspec": {
   "display_name": "Python [conda env:base] *",
   "language": "python",
   "name": "conda-base-py"
  },
  "language_info": {
   "codemirror_mode": {
    "name": "ipython",
    "version": 3
   },
   "file_extension": ".py",
   "mimetype": "text/x-python",
   "name": "python",
   "nbconvert_exporter": "python",
   "pygments_lexer": "ipython3",
   "version": "3.12.7"
  }
 },
 "nbformat": 4,
 "nbformat_minor": 5
}
