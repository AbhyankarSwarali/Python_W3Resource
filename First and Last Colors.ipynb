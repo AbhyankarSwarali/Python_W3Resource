{
 "cells": [
  {
   "cell_type": "code",
   "execution_count": 1,
   "id": "c444bb6c-e8fb-474b-84df-901ee53ce4aa",
   "metadata": {},
   "outputs": [
    {
     "name": "stdout",
     "output_type": "stream",
     "text": [
      "First: Red\n",
      "Last: Black\n"
     ]
    }
   ],
   "source": [
    "color_list = ['Red', 'Green', 'White', 'Black']\n",
    "first = color_list[0]\n",
    "last = color_list[-1]\n",
    "print('First:', first)\n",
    "print(\"Last:\", last)"
   ]
  }
 ],
 "metadata": {
  "kernelspec": {
   "display_name": "Python [conda env:base] *",
   "language": "python",
   "name": "conda-base-py"
  },
  "language_info": {
   "codemirror_mode": {
    "name": "ipython",
    "version": 3
   },
   "file_extension": ".py",
   "mimetype": "text/x-python",
   "name": "python",
   "nbconvert_exporter": "python",
   "pygments_lexer": "ipython3",
   "version": "3.12.7"
  }
 },
 "nbformat": 4,
 "nbformat_minor": 5
}
