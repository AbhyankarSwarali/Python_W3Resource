{
 "cells": [
  {
   "cell_type": "code",
   "execution_count": 4,
   "id": "0ce69a84-1095-45ae-820b-46507213590e",
   "metadata": {},
   "outputs": [
    {
     "name": "stdin",
     "output_type": "stream",
     "text": [
      "Enter name: John Doe\n",
      "Enter age: 45\n",
      "Enter address: USA\n"
     ]
    },
    {
     "name": "stdout",
     "output_type": "stream",
     "text": [
      "Name:John Doe \n",
      "Age:45 \n",
      "Address: USA\n"
     ]
    }
   ],
   "source": [
    "def per_info(): \n",
    "    name = input(\"Enter name:\")\n",
    "    age = int(input(\"Enter age:\"))\n",
    "    address = input(\"Enter address:\")\n",
    "    print('Name:{} \\nAge:{} \\nAddress: {}'.format(name, age, address))\n",
    "per_info()"
   ]
  }
 ],
 "metadata": {
  "kernelspec": {
   "display_name": "Python [conda env:base] *",
   "language": "python",
   "name": "conda-base-py"
  },
  "language_info": {
   "codemirror_mode": {
    "name": "ipython",
    "version": 3
   },
   "file_extension": ".py",
   "mimetype": "text/x-python",
   "name": "python",
   "nbconvert_exporter": "python",
   "pygments_lexer": "ipython3",
   "version": "3.12.7"
  }
 },
 "nbformat": 4,
 "nbformat_minor": 5
}
