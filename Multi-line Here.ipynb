{
 "cells": [
  {
   "cell_type": "code",
   "execution_count": 1,
   "id": "b4b936a5-5017-4571-9ef2-7addc4ed1d45",
   "metadata": {},
   "outputs": [
    {
     "name": "stdout",
     "output_type": "stream",
     "text": [
      "%%!a string that you \"don't\" have to escape\n",
      "This\n",
      "is a ...... multi-line\n",
      "heredoc string ------> example\n",
      "\n"
     ]
    }
   ],
   "source": [
    "print('''%%!a string that you \"don't\" have to escape\n",
    "This\n",
    "is a ...... multi-line\n",
    "heredoc string ------> example\n",
    "''')"
   ]
  }
 ],
 "metadata": {
  "kernelspec": {
   "display_name": "Python [conda env:base] *",
   "language": "python",
   "name": "conda-base-py"
  },
  "language_info": {
   "codemirror_mode": {
    "name": "ipython",
    "version": 3
   },
   "file_extension": ".py",
   "mimetype": "text/x-python",
   "name": "python",
   "nbconvert_exporter": "python",
   "pygments_lexer": "ipython3",
   "version": "3.12.7"
  }
 },
 "nbformat": 4,
 "nbformat_minor": 5
}
