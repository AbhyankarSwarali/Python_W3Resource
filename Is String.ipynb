{
 "cells": [
  {
   "cell_type": "code",
   "execution_count": 2,
   "id": "d2b12e59-56b7-4a86-b6ff-57581c5fce07",
   "metadata": {},
   "outputs": [
    {
     "name": "stdin",
     "output_type": "stream",
     "text": [
      "Enter a string: Isabella\n"
     ]
    },
    {
     "name": "stdout",
     "output_type": "stream",
     "text": [
      "Isabella\n"
     ]
    }
   ],
   "source": [
    "s = input(\"Enter a string:\")\n",
    "if s.startswith('Is'): \n",
    "    print(s)\n",
    "else: \n",
    "    print('Is' + s)"
   ]
  }
 ],
 "metadata": {
  "kernelspec": {
   "display_name": "Python [conda env:base] *",
   "language": "python",
   "name": "conda-base-py"
  },
  "language_info": {
   "codemirror_mode": {
    "name": "ipython",
    "version": 3
   },
   "file_extension": ".py",
   "mimetype": "text/x-python",
   "name": "python",
   "nbconvert_exporter": "python",
   "pygments_lexer": "ipython3",
   "version": "3.12.7"
  }
 },
 "nbformat": 4,
 "nbformat_minor": 5
}
