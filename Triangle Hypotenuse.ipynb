{
 "cells": [
  {
   "cell_type": "code",
   "execution_count": 2,
   "id": "1b2bdd98-a1bb-482b-9b4d-5c4bfdd2a5f9",
   "metadata": {},
   "outputs": [
    {
     "name": "stdout",
     "output_type": "stream",
     "text": [
      "Hypotenuse: 5.0\n"
     ]
    }
   ],
   "source": [
    "import math\n",
    "def hypotenuse(a,b):\n",
    "    c = math.sqrt(a**2 + b**2)\n",
    "    return c\n",
    "print(\"Hypotenuse:\", hypotenuse(3,4))"
   ]
  }
 ],
 "metadata": {
  "kernelspec": {
   "display_name": "Python [conda env:base] *",
   "language": "python",
   "name": "conda-base-py"
  },
  "language_info": {
   "codemirror_mode": {
    "name": "ipython",
    "version": 3
   },
   "file_extension": ".py",
   "mimetype": "text/x-python",
   "name": "python",
   "nbconvert_exporter": "python",
   "pygments_lexer": "ipython3",
   "version": "3.12.7"
  }
 },
 "nbformat": 4,
 "nbformat_minor": 5
}
