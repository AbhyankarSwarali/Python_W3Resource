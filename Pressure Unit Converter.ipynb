{
 "cells": [
  {
   "cell_type": "code",
   "execution_count": 3,
   "id": "f0ad6a62-f5d5-41dd-a7ea-bcaad9545ae0",
   "metadata": {},
   "outputs": [
    {
     "name": "stdin",
     "output_type": "stream",
     "text": [
      "Enter pressure in KiloPascal: 12.3\n"
     ]
    },
    {
     "name": "stdout",
     "output_type": "stream",
     "text": [
      "Pounds per sq. inch: 1.78\n",
      "a millimeter of mercury(Hg): 92.26\n",
      "Atmospheric pressure: 0.12\n"
     ]
    }
   ],
   "source": [
    "pressure = float(input(\"Enter pressure in KiloPascal:\"))\n",
    "ppsi = pressure * 0.145038\n",
    "mmhg = pressure * 7.50062\n",
    "ap = pressure * 0.00986923\n",
    "print('Pounds per sq. inch:', round(ppsi,2))\n",
    "print('a millimeter of mercury(Hg):', round(mmhg,2))\n",
    "print('Atmospheric pressure:', round(ap,2))"
   ]
  }
 ],
 "metadata": {
  "kernelspec": {
   "display_name": "Python [conda env:base] *",
   "language": "python",
   "name": "conda-base-py"
  },
  "language_info": {
   "codemirror_mode": {
    "name": "ipython",
    "version": 3
   },
   "file_extension": ".py",
   "mimetype": "text/x-python",
   "name": "python",
   "nbconvert_exporter": "python",
   "pygments_lexer": "ipython3",
   "version": "3.12.7"
  }
 },
 "nbformat": 4,
 "nbformat_minor": 5
}
