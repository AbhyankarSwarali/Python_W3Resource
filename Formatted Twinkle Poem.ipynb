{
 "cells": [
  {
   "cell_type": "code",
   "execution_count": 1,
   "id": "55078c41-d65f-4c97-9401-543b72a8441b",
   "metadata": {},
   "outputs": [
    {
     "name": "stdout",
     "output_type": "stream",
     "text": [
      "Twinkle, twinkle, little star,\n",
      "\tHow I wonder what you are!\n",
      "\t\tUp above the world so high,\n",
      "\t\tLike a diamond in the sky.\n",
      "Twinkle, twinkle, little star,\n",
      "\tHow I wonder what you are!\n"
     ]
    }
   ],
   "source": [
    "print(\"Twinkle, twinkle, little star,\")\n",
    "print('\\tHow I wonder what you are!')\n",
    "print(\"\\t\\tUp above the world so high,\")\n",
    "print(\"\\t\\tLike a diamond in the sky.\")\n",
    "print(\"Twinkle, twinkle, little star,\")\n",
    "print('\\tHow I wonder what you are!')"
   ]
  }
 ],
 "metadata": {
  "kernelspec": {
   "display_name": "Python [conda env:base] *",
   "language": "python",
   "name": "conda-base-py"
  },
  "language_info": {
   "codemirror_mode": {
    "name": "ipython",
    "version": 3
   },
   "file_extension": ".py",
   "mimetype": "text/x-python",
   "name": "python",
   "nbconvert_exporter": "python",
   "pygments_lexer": "ipython3",
   "version": "3.12.7"
  }
 },
 "nbformat": 4,
 "nbformat_minor": 5
}
