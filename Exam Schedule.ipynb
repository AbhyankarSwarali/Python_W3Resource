{
 "cells": [
  {
   "cell_type": "code",
   "execution_count": 6,
   "id": "7d4948db-37be-41ed-8c81-33d826009bd8",
   "metadata": {},
   "outputs": [
    {
     "name": "stdout",
     "output_type": "stream",
     "text": [
      "The examination will start from: 11/12/2025\n"
     ]
    }
   ],
   "source": [
    "exam_date = (11,12,2025) \n",
    "print(\"The examination will start from: %i/%i/%i\" %exam_date)"
   ]
  }
 ],
 "metadata": {
  "kernelspec": {
   "display_name": "Python [conda env:base] *",
   "language": "python",
   "name": "conda-base-py"
  },
  "language_info": {
   "codemirror_mode": {
    "name": "ipython",
    "version": 3
   },
   "file_extension": ".py",
   "mimetype": "text/x-python",
   "name": "python",
   "nbconvert_exporter": "python",
   "pygments_lexer": "ipython3",
   "version": "3.12.7"
  }
 },
 "nbformat": 4,
 "nbformat_minor": 5
}
