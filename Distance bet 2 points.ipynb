{
 "cells": [
  {
   "cell_type": "code",
   "execution_count": 1,
   "id": "bae3b66e-f2e2-4bab-a2b5-02897fb33026",
   "metadata": {},
   "outputs": [
    {
     "name": "stdin",
     "output_type": "stream",
     "text": [
      "x1: 4\n",
      "y1: 5\n",
      "x2: 3\n",
      "y2: 2\n"
     ]
    },
    {
     "name": "stdout",
     "output_type": "stream",
     "text": [
      "10\n"
     ]
    }
   ],
   "source": [
    "x1 = int(input(\"x1:\"))\n",
    "y1 = int(input(\"y1:\"))\n",
    "x2 = int(input(\"x2:\"))\n",
    "y2 = int(input(\"y2:\"))\n",
    "distance = (x2-x1)**2 + (y2-y1)**2\n",
    "print(distance)"
   ]
  }
 ],
 "metadata": {
  "kernelspec": {
   "display_name": "Python [conda env:base] *",
   "language": "python",
   "name": "conda-base-py"
  },
  "language_info": {
   "codemirror_mode": {
    "name": "ipython",
    "version": 3
   },
   "file_extension": ".py",
   "mimetype": "text/x-python",
   "name": "python",
   "nbconvert_exporter": "python",
   "pygments_lexer": "ipython3",
   "version": "3.12.7"
  }
 },
 "nbformat": 4,
 "nbformat_minor": 5
}
